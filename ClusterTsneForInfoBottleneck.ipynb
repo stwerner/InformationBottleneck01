{
 "cells": [
  {
   "cell_type": "markdown",
   "metadata": {},
   "source": [
    "Obtain clusters for information bottleneck analysis based on density in tsne space\n",
    "- first run TsneForInfoBottleneck02.py in separate script to generate tsne map"
   ]
  },
  {
   "cell_type": "code",
   "execution_count": 78,
   "metadata": {
    "collapsed": false
   },
   "outputs": [],
   "source": [
    "#general stuff\n",
    "import os\n",
    "import h5py\n",
    "import numpy as np\n",
    "#for plotting\n",
    "import matplotlib.pyplot as plt\n",
    "from matplotlib.mlab import griddata\n",
    "from scipy.spatial import KDTree\n",
    "from scipy import ndimage as ndi\n",
    "import matplotlib.cm as cm\n",
    "#for finding the local maxima\n",
    "from skimage.feature import peak_local_max\n",
    "from skimage.morphology import watershed\n",
    "from scipy import ndimage as ndi\n",
    "from sklearn.cluster import KMeans\n",
    "from sklearn.cluster import DBSCAN\n",
    "#for sorting the transition matrix\n",
    "from scipy.spatial.distance import pdist\n",
    "from scipy.cluster.hierarchy import linkage\n",
    "from scipy.cluster.hierarchy import leaves_list\n",
    "#set path to main folder\n",
    "path2mainfolder='/Users/admin/Documents/AmsterdamResearch/InformationBottleneck/'"
   ]
  },
  {
   "cell_type": "code",
   "execution_count": 79,
   "metadata": {
    "collapsed": false
   },
   "outputs": [],
   "source": [
    "#Load tsne result\n",
    "perplexity=60\n",
    "results=h5py.File(path2mainfolder+'TsneResults/Perp'+str(perplexity)+'.h5','r')\n",
    "spaces=np.array(results['space'])\n",
    "entrynumber=np.array(results['entrynumber'])\n",
    "results.close()"
   ]
  },
  {
   "cell_type": "code",
   "execution_count": 80,
   "metadata": {
    "collapsed": false
   },
   "outputs": [],
   "source": [
    "#Save data to h5 file with checking whether it exists\n",
    "def save_save(h5fileobject,filename,dataset):\n",
    "    test_file_exist='/'+filename in h5fileobject\n",
    "    if test_file_exist:\n",
    "        print('Output file already exists.')\n",
    "        user_input = input('Do you want to replace file (y/n): ')\n",
    "        if user_input=='y':\n",
    "            del h5fileobject[filename]\n",
    "            inputf = h5fileobject.create_dataset(filename,(dataset.shape))\n",
    "            inputf[...]=dataset\n",
    "    else:\n",
    "        inputf = h5fileobject.create_dataset(filename,(dataset.shape))\n",
    "        inputf[...]=dataset"
   ]
  },
  {
   "cell_type": "code",
   "execution_count": 81,
   "metadata": {
    "collapsed": false
   },
   "outputs": [],
   "source": [
    "#Density plot function\n",
    "def density_plot(X,Y,xrange,yrange,n_grid_x,n_grid_y,border=5,smooth=False,log=False):\n",
    "    '''\n",
    "    Plots 2d density plot from X and Y\n",
    "    xrange and yrange define the range of values on which to compute the density\n",
    "    n_grid_x and n_grid_y are the number of grid divisions in the x and y axis respectively\n",
    "    border defines a border around the data for the density estimation and smoothing\n",
    "    if smooth=True, it will convolve a gaussian of the size of the border\n",
    "    if log=True, it will get the log distributions (this is useful when the distinction of a certain peak is not easy)\n",
    "    '''\n",
    "    # view area range\n",
    "    view_xmin,view_xmax=xrange\n",
    "    view_ymin,view_ymax=yrange\n",
    "\n",
    "    # get data\n",
    "    xl = X\n",
    "    yl = Y\n",
    "\n",
    "    # get visible data points\n",
    "    xlvis = []\n",
    "    ylvis = []\n",
    "    for i in range(0,len(xl)):\n",
    "        if view_xmin < xl[i] < view_xmax and view_ymin < yl[i] < view_ymax:\n",
    "            xlvis.append(xl[i])\n",
    "            ylvis.append(yl[i])\n",
    "    \n",
    "    kx = (n_grid_x - 1) / (view_xmax - view_xmin)\n",
    "    ky = (n_grid_y - 1) / (view_ymax - view_ymin)\n",
    "    imgw = (n_grid_x + 2 * border)\n",
    "    imgh = (n_grid_y + 2 * border)\n",
    "    img = np.zeros((imgh,imgw))\n",
    "    for x, y in zip(xl,yl):\n",
    "        ix = int((x - view_xmin) * kx) + border\n",
    "        iy = int((y - view_ymin) * ky) + border\n",
    "        if 0 <= ix < imgw and 0 <= iy < imgh:\n",
    "            img[iy][ix] += 1\n",
    "    if smooth:\n",
    "        if log:\n",
    "            log_img=np.log10(img)\n",
    "            sel=~np.isfinite(log_img)\n",
    "            log_img[sel]=0.\n",
    "            filtered_img=ndi.gaussian_filter(log_img, (border,border))\n",
    "            return filtered_img\n",
    "        else:\n",
    "            return ndi.gaussian_filter(img, (border,border))  ## gaussian convolution\n",
    "    else:\n",
    "        if log:\n",
    "            return np.log10(img)\n",
    "        else:\n",
    "            return img"
   ]
  },
  {
   "cell_type": "code",
   "execution_count": 82,
   "metadata": {
    "collapsed": false
   },
   "outputs": [],
   "source": [
    "#Generate density matrix\n",
    "xrange=[spaces[:,0].min(),spaces[:,0].max()]\n",
    "yrange=[spaces[:,1].min(),spaces[:,1].max()]\n",
    "n_grid_x=256\n",
    "n_grid_y=256\n",
    "r=3\n",
    "zd = density_plot(spaces[:,0],spaces[:,1],xrange,yrange,n_grid_x,n_grid_y,border=r,smooth=True)\n",
    "#only for testing purposes:\n",
    "#zd = density_plot([spaces[:,0].min(),0,spaces[:,0].max()],\n",
    "#                  [spaces[spaces[:,0].argmin(),1],0,spaces[spaces[:,0].argmax(),1]],\n",
    "#                  xrange,yrange,n_grid_x,n_grid_y,border=r,smooth=True)\n",
    "#note: originally zd was of size n_grid_x+r x n_grid_y+r, which cause a lot of confusion\n",
    "zd=zd[r:n_grid_y+r,r:n_grid_x+r];"
   ]
  },
  {
   "cell_type": "code",
   "execution_count": 83,
   "metadata": {
    "collapsed": false
   },
   "outputs": [
    {
     "name": "stdout",
     "output_type": "stream",
     "text": [
      "Number of peaks: 142\n"
     ]
    }
   ],
   "source": [
    "#Find the peaks\n",
    "#defines the coordinate space of the density plot (for the peak finding routine)\n",
    "#x_flat = np.linspace(xrange[0],xrange[1],n_grid_x+2*r) #wrong\n",
    "#y_flat = np.linspace(yrange[0],yrange[1],n_grid_y+2*r) #wrong\n",
    "x_flat = np.linspace(xrange[0],xrange[1],n_grid_x) \n",
    "y_flat = np.linspace(yrange[0],yrange[1],n_grid_y)\n",
    "x,y = np.meshgrid(x_flat,y_flat)\n",
    "\n",
    "#peak_local_max finds the peaks in density. One can pick the minimum density for a peak\n",
    "#to be considered a peak or, as I'm doing here, pick a threshold for the relative \n",
    "#size of a peak compared to the neighborhood\n",
    "coordinates = peak_local_max(zd,threshold_rel=0.1)\n",
    "\n",
    "#find the coordinates of the peaks\n",
    "cx=[]\n",
    "cy=[]\n",
    "for i in range(len(coordinates)):\n",
    "    a=coordinates[i,0]\n",
    "    b=coordinates[i,1]\n",
    "    cx.append(x[a,b])\n",
    "    cy.append(y[a,b])\n",
    "print('Number of peaks: '+str(len(cx)))"
   ]
  },
  {
   "cell_type": "code",
   "execution_count": 95,
   "metadata": {
    "collapsed": false
   },
   "outputs": [
    {
     "data": {
      "text/plain": [
       "<matplotlib.text.Text at 0x11b4850f0>"
      ]
     },
     "execution_count": 95,
     "metadata": {},
     "output_type": "execute_result"
    }
   ],
   "source": [
    "#Plot figure with peaks\n",
    "plt.figure(figsize=(10,8))\n",
    "plt.title('tsne Distribution',fontsize=20)\n",
    "plt.imshow(zd , origin='lower', extent=[xrange[0], xrange[1], yrange[0], yrange[1]],cmap=cm.jet)\n",
    "plt.colorbar()\n",
    "cmap = cm.get_cmap('jet')\n",
    "colors=cmap(np.linspace(0.01,1,len(cx)))\n",
    "for i in range(len(cx)):\n",
    "    #plt.scatter(cx[i],cy[i],s=100,c=colors[i])\n",
    "    plt.scatter(cx[i],cy[i],s=100,c='k')\n",
    "plt.grid(False)\n",
    "plt.xticks([], [])\n",
    "plt.yticks([], [])\n",
    "plt.xlabel('$z_1$',fontsize=20)\n",
    "plt.ylabel('$z_2$',fontsize=20)\n",
    "#plt.savefig(path2mainfolder+'TsneResults/Perp'+str(perplexity)+'/TsnePeaks_Perp'+str(perplexity)+'.png')\n",
    "#plt.show()"
   ]
  },
  {
   "cell_type": "code",
   "execution_count": 99,
   "metadata": {
    "collapsed": false
   },
   "outputs": [],
   "source": [
    "#Watershed algorithm around the local maxima\n",
    "local_maxi = peak_local_max(zd,indices=False,threshold_rel=0.1) #false makes matrix with boolean TRUE at peak position\n",
    "markers = ndi.label(local_maxi)[0] #gives labels to regions with TRUEs (is still a matrix with zero otherwise)\n",
    "labels = watershed(-zd, markers)#, mask=zd)\n",
    "numberofclusters=markers.max().max()\n",
    "plt.figure(figsize=(10,8))\n",
    "plt.imshow(labels, cmap=plt.cm.spectral,origin='lower',interpolation='nearest',\n",
    "           extent=[xrange[0], xrange[1], yrange[0], yrange[1]])\n",
    "for i in range(len(cx)):\n",
    "    plt.scatter(cx[i],cy[i],s=100,c='k')\n",
    "#plt.savefig(path2mainfolder+'TsneResults/Perp'+str(perplexity)+'/Watershed_Perp'+str(perplexity)+'.png')\n",
    "#plt.show()"
   ]
  },
  {
   "cell_type": "code",
   "execution_count": 100,
   "metadata": {
    "collapsed": false
   },
   "outputs": [],
   "source": [
    "#Associate clusterid with points\n",
    "#Get rounded position of points and look up cluster number in labeled matrix\n",
    "view_xmin,view_xmax=xrange\n",
    "view_ymin,view_ymax=yrange\n",
    "kx = (n_grid_x - 1) / (view_xmax - view_xmin)\n",
    "ky = (n_grid_y - 1) / (view_ymax - view_ymin)\n",
    "clusterid=np.empty(len(spaces[:,0])) * np.nan\n",
    "clusterseedid=np.empty((len(cx),2)) * np.nan\n",
    "for i in range(len(spaces[:,0])):\n",
    "    #ix = int((spaces[i,0] - view_xmin) * kx + r) #wrong\n",
    "    #iy = int((spaces[i,1] - view_ymin) * ky + r) #wrong\n",
    "    ix = int((spaces[i,0] - view_xmin) * kx)\n",
    "    iy = int((spaces[i,1] - view_ymin) * ky)\n",
    "    clusterid[i] = labels[iy,ix]\n",
    "#Check whether label of watershed cluster is identical to original cluster number\n",
    "#note that labels range (1,N) while old cluster number range (0,N-1)\n",
    "for i in range(len(cx)):\n",
    "    ix = int((cx[i] - view_xmin) * kx)\n",
    "    iy = int((cy[i] - view_ymin) * ky)\n",
    "    #first column with new cluster label, second column shows old cluster number at new label position\n",
    "    if (labels[iy,ix]-1) != i:\n",
    "        print('Clusters are not identical in '+str(i))"
   ]
  },
  {
   "cell_type": "code",
   "execution_count": 107,
   "metadata": {
    "collapsed": false
   },
   "outputs": [
    {
     "data": {
      "text/plain": [
       "[<matplotlib.lines.Line2D at 0x118269f98>]"
      ]
     },
     "execution_count": 107,
     "metadata": {},
     "output_type": "execute_result"
    }
   ],
   "source": [
    "#Print result\n",
    "unique_labels = set(clusterid)\n",
    "colors = plt.cm.Spectral(np.linspace(0, 1,len(unique_labels)))\n",
    "np.random.shuffle(colors)\n",
    "plt.figure(figsize=(12,10))\n",
    "for k, col in zip(unique_labels, colors):\n",
    "    class_member_mask = (clusterid == k)\n",
    "    xy = spaces[class_member_mask]\n",
    "    plt.scatter(xy[:, 0], xy[:, 1], c=col,s=10)\n",
    "entrynumbercs=np.cumsum(entrynumber).astype(int)\n",
    "entrynumberst=np.append(0,entrynumbercs[:-1]).astype(int)\n",
    "trach=300 #trace choice\n",
    "plt.scatter(spaces[entrynumberst[trach], 0],spaces[entrynumberst[trach], 1],color='k',s=30)\n",
    "plt.plot(spaces[entrynumberst[trach]:entrynumbercs[trach], 0],\n",
    "         spaces[entrynumberst[trach]:entrynumbercs[trach], 1],'k')\n",
    "#plt.savefig(path2mainfolder+'TsneResults/Perp'+str(perplexity)+'/WScluster_Tr'+str(trach)+'_Perp'+str(perplexity)+'.png')\n",
    "#plt.show()"
   ]
  },
  {
   "cell_type": "code",
   "execution_count": 108,
   "metadata": {
    "collapsed": false
   },
   "outputs": [],
   "source": [
    "#Plot several traces\n",
    "figh, axarr = plt.subplots(2, 3 ,figsize=(12,8))\n",
    "for trach in np.array([60,61,62]):\n",
    "    for k, col in zip(unique_labels, colors):\n",
    "        class_member_mask = (clusterid == k)\n",
    "        xy = spaces[class_member_mask]\n",
    "        axarr[0,trach-60].scatter(xy[:, 0], xy[:, 1], c=col,s=10)\n",
    "    entrynumbercs=np.cumsum(entrynumber).astype(int)\n",
    "    entrynumberst=np.append(0,entrynumbercs[:-1]).astype(int)\n",
    "    axarr[0,trach-60].scatter(spaces[entrynumberst[trach], 0],spaces[entrynumberst[trach], 1],color='k',s=30)\n",
    "    axarr[0,trach-60].plot(spaces[entrynumberst[trach]:entrynumbercs[trach], 0],\n",
    "             spaces[entrynumberst[trach]:entrynumbercs[trach], 1],'k')\n",
    "for trach in np.array([63,64,65]):\n",
    "    for k, col in zip(unique_labels, colors):\n",
    "        class_member_mask = (clusterid == k)\n",
    "        xy = spaces[class_member_mask]\n",
    "        axarr[1,trach-63].scatter(xy[:, 0], xy[:, 1], c=col,s=10)\n",
    "    entrynumbercs=np.cumsum(entrynumber).astype(int)\n",
    "    entrynumberst=np.append(0,entrynumbercs[:-1]).astype(int)\n",
    "    axarr[1,trach-63].scatter(spaces[entrynumberst[trach], 0],spaces[entrynumberst[trach], 1],color='k',s=30)\n",
    "    axarr[1,trach-63].plot(spaces[entrynumberst[trach]:entrynumbercs[trach], 0],\n",
    "             spaces[entrynumberst[trach]:entrynumbercs[trach], 1],'k')\n",
    "#plt.savefig(path2mainfolder+'TsneResults/Perp'+str(perplexity)+'/ExTr60to65_Perp'+str(perplexity)+'.png')\n",
    "#plt.show()"
   ]
  },
  {
   "cell_type": "code",
   "execution_count": 111,
   "metadata": {
    "collapsed": false
   },
   "outputs": [],
   "source": [
    "#Similar plot with points and watershed regions for inspection\n",
    "plt.figure(figsize=(20,18))\n",
    "plt.imshow(labels, cmap=plt.cm.spectral,origin='lower',interpolation='nearest',\n",
    "           extent=[xrange[0], xrange[1], yrange[0], yrange[1]])\n",
    "for k, col in zip(unique_labels, colors):\n",
    "    class_member_mask = (clusterid == k)\n",
    "    xy = spaces[class_member_mask]\n",
    "    plt.scatter(xy[:, 0], xy[:, 1], c=col,s=10)\n",
    "for i in range(len(cx)):\n",
    "    plt.scatter(cx[i],cy[i],s=100,c='k')\n",
    "#plt.show()"
   ]
  },
  {
   "cell_type": "code",
   "execution_count": 114,
   "metadata": {
    "collapsed": false
   },
   "outputs": [],
   "source": [
    "#Plot like above with points and watershed regions, now just outlines\n",
    "plt.figure(figsize=(20,18))\n",
    "plt.imshow(abs(labels[:-1,:-1]-labels[1:,1:])>0,origin='lower',interpolation='nearest',\n",
    "           extent=[xrange[0], xrange[1], yrange[0], yrange[1]])\n",
    "for k, col in zip(unique_labels, colors):\n",
    "    class_member_mask = (clusterid == k)\n",
    "    xy = spaces[class_member_mask]\n",
    "    plt.scatter(xy[:, 0], xy[:, 1], c=col,s=10)\n",
    "for i in range(len(cx)):\n",
    "    plt.scatter(cx[i],cy[i],s=100,c='r')\n",
    "#plt.show()"
   ]
  },
  {
   "cell_type": "code",
   "execution_count": 115,
   "metadata": {
    "collapsed": false
   },
   "outputs": [
    {
     "name": "stdout",
     "output_type": "stream",
     "text": [
      "Output file already exists.\n",
      "Do you want to replace file (y/n): y\n",
      "Output file already exists.\n",
      "Do you want to replace file (y/n): y\n"
     ]
    }
   ],
   "source": [
    "#Save clustering result\n",
    "f=h5py.File(path2mainfolder+'TsneResults/Perp'+str(perplexity)+'.h5','a')\n",
    "save_save(f,'clusterid',clusterid)\n",
    "save_save(f,'numberofclusters',numberofclusters)\n",
    "f.close()"
   ]
  },
  {
   "cell_type": "code",
   "execution_count": 116,
   "metadata": {
    "collapsed": false
   },
   "outputs": [],
   "source": [
    "#Compute transition matrix\n",
    "followupindex=np.c_[clusterid[:-1],clusterid[1:]]\n",
    "f=h5py.File(path2mainfolder+'TsneResults/Perp'+str(perplexity)+'.h5','r')\n",
    "entrynumber=np.array(f['entrynumber'])\n",
    "f.close()\n",
    "deletionvector=np.cumsum(entrynumber)-1\n",
    "followupindexdel=np.delete(followupindex,deletionvector,0).astype(int) #cast to int\n",
    "transitionmatrix=np.zeros((numberofclusters,numberofclusters))\n",
    "for i in range(len(followupindexdel)):\n",
    "    transitionmatrix[followupindexdel[i,0]-1,followupindexdel[i,1]-1] += 1.0"
   ]
  },
  {
   "cell_type": "code",
   "execution_count": 117,
   "metadata": {
    "collapsed": false
   },
   "outputs": [
    {
     "name": "stdout",
     "output_type": "stream",
     "text": [
      "Output file already exists.\n",
      "Do you want to replace file (y/n): y\n"
     ]
    }
   ],
   "source": [
    "#Save transition matrix\n",
    "f=h5py.File(path2mainfolder+'TsneResults/Perp'+str(perplexity)+'.h5','a')\n",
    "save_save(f,'transmat',transitionmatrix)\n",
    "f.close()"
   ]
  },
  {
   "cell_type": "code",
   "execution_count": 121,
   "metadata": {
    "collapsed": false
   },
   "outputs": [],
   "source": [
    "#Only look at the most likely transition from each cluster\n",
    "mostlikelytrans=np.argmax(transitionmatrix,axis=1)\n",
    "plt.figure(figsize=(10,8))\n",
    "for i in range(len(cx)):\n",
    "    plt.scatter(cx[i],cy[i],s=100,c='k')\n",
    "    if transitionmatrix[i,mostlikelytrans[i]]>5:\n",
    "    #if transitionmatrix[i,mostlikelytrans[i]]/np.sum(clusterid == i+1)>0.08:\n",
    "        if i==mostlikelytrans[i]:\n",
    "            plt.plot(cx[i],cy[i],'ro')\n",
    "            plt.text(cx[i],cy[i], str(i+1), fontsize=12)\n",
    "        else:\n",
    "            plt.arrow(cx[i],cy[i],cx[mostlikelytrans[i]]-cx[i],cy[mostlikelytrans[i]]-cy[i],color='r',\n",
    "                     length_includes_head=True,head_width=2)\n",
    "            #plt.plot([cx[i],cx[mostlikelytrans[i]]],[cy[i],cy[mostlikelytrans[i]]],'r',\n",
    "            #         linewidth=int(transitionmatrix[i,mostlikelytrans[i]]/5))\n",
    "            plt.text(cx[i],cy[i], str(i+1), fontsize=12)\n",
    "            plt.text(cx[mostlikelytrans[i]],cy[mostlikelytrans[i]],\n",
    "                     str(mostlikelytrans[i]+1), fontsize=12)\n",
    "#plt.savefig(path2mainfolder+'TsneResults/Perp'+str(perplexity)+'/MostTransL5_Perp'+str(perplexity)+'.png')\n",
    "#plt.show()"
   ]
  },
  {
   "cell_type": "code",
   "execution_count": 124,
   "metadata": {
    "collapsed": false
   },
   "outputs": [],
   "source": [
    "#Transitions between clusters - line width indicates number\n",
    "figh, axarr = plt.subplots(1, 3 ,figsize=(18,6))\n",
    "kind=0;\n",
    "for k in np.array([10,15,20]):\n",
    "    for i in range(len(cx)):\n",
    "        axarr[kind].scatter(cx[i],cy[i],s=100,c='k')\n",
    "        for j in range(len(cy)):\n",
    "            if transitionmatrix[i,j]>k:\n",
    "                if i==j:\n",
    "                    axarr[kind].plot(cx[i],cy[i],'ro')\n",
    "                    axarr[kind].text(cx[i],cy[i], str(i+1), fontsize=12)\n",
    "                else:\n",
    "                    axarr[kind].plot([cx[i],cx[j]],[cy[i],cy[j]],'r',linewidth=int(transitionmatrix[i,j]/5))\n",
    "                    axarr[kind].text(cx[i],cy[i], str(i+1), fontsize=12)\n",
    "                    axarr[kind].text(cx[j],cy[j],str(j+1), fontsize=12)\n",
    "    axarr[kind].set_title('> '+str(k)+' Transitions')\n",
    "    kind = kind+1\n",
    "#plt.savefig(path2mainfolder+'TsneResults/Perp'+str(perplexity)+'/Transitions_Perp'+str(perplexity)+'.png') #.eps\n",
    "#plt.show()"
   ]
  },
  {
   "cell_type": "code",
   "execution_count": 127,
   "metadata": {
    "collapsed": false
   },
   "outputs": [],
   "source": [
    "#Only one treshold for the transion, line width in either absolute or relative terms\n",
    "plt.figure(figsize=(10,8))\n",
    "for i in range(len(cx)):\n",
    "    plt.scatter(cx[i],cy[i],s=100,c='k')\n",
    "    for j in range(len(cy)):\n",
    "        if transitionmatrix[i,j]>10:\n",
    "            if i==j:\n",
    "                plt.plot(cx[i],cy[i],'ro')\n",
    "                plt.text(cx[i],cy[i], str(i+1), fontsize=12)\n",
    "            else:\n",
    "                #plt.plot([cx[i],cx[j]],[cy[i],cy[j]],'r',linewidth=int(transitionmatrix[i,j]/5))\n",
    "                plt.plot([cx[i],cx[j]],[cy[i],cy[j]],'r',\n",
    "                         linewidth=int(transitionmatrix[i,j]/np.sum(clusterid == i+1)*30))\n",
    "                plt.text(cx[i],cy[i], str(i+1), fontsize=12)\n",
    "                plt.text(cx[j],cy[j],str(j+1), fontsize=12)\n",
    "#plt.show()"
   ]
  },
  {
   "cell_type": "code",
   "execution_count": 154,
   "metadata": {
    "collapsed": false
   },
   "outputs": [
    {
     "data": {
      "image/png": "[encoded data removed]",
      "text/plain": [
       "<matplotlib.figure.Figure at 0x11ca27438>"
      ]
     },
     "metadata": {},
     "output_type": "display_data"
    }
   ],
   "source": [
    "#Distribution of transitions from each clusters\n",
    "maxtransitions=np.amax(transitionmatrix, axis=1)\n",
    "plt.figure(figsize=(10,8))\n",
    "plt.hist(maxtransitions, bins=150)\n",
    "plt.show()"
   ]
  },
  {
   "cell_type": "code",
   "execution_count": 254,
   "metadata": {
    "collapsed": false
   },
   "outputs": [
    {
     "data": {
      "text/plain": [
       "<matplotlib.text.Text at 0x123d8a400>"
      ]
     },
     "execution_count": 254,
     "metadata": {},
     "output_type": "execute_result"
    }
   ],
   "source": [
    "#Transition matrix either in log or normal scale or only in a certain range (don't forget to change colorbar label)\n",
    "transitionmatrixdistance = pdist(transitionmatrix, 'euclidean')\n",
    "linkagematrix = linkage(transitionmatrixdistance, 'ward')\n",
    "clusterorder=leaves_list(linkagematrix)\n",
    "transitionmatrixordtemp=np.copy(transitionmatrix)\n",
    "for i in range(len(clusterorder)):\n",
    "    transitionmatrixordtemp[i,:]=transitionmatrix[clusterorder[i],:]\n",
    "transitionmatrixord=np.copy(transitionmatrix)\n",
    "for i in range(len(clusterorder)):\n",
    "    transitionmatrixord[:,i]=transitionmatrixordtemp[:,clusterorder[i]]\n",
    "plt.figure(figsize=(10,8))\n",
    "plt.title('Transition Matrix',fontsize=20)\n",
    "#plt.imshow(np.log10(transitionmatrixord), origin='lower',cmap=cm.jet)\n",
    "transitionmatrixord[(transitionmatrixord>20)]=20\n",
    "plt.imshow(transitionmatrixord, origin='lower',cmap=cm.jet)\n",
    "cbar = plt.colorbar()\n",
    "cbar.set_ticks(np.linspace(0, 20, 5))\n",
    "cbar.ax.set_yticklabels(['0','5','10','15','>20'])\n",
    "plt.grid(False)\n",
    "plt.xlabel('$to$',fontsize=20)\n",
    "plt.ylabel('$from$',fontsize=20)\n",
    "#plt.savefig(path2mainfolder+'TsneResults/Perp'+str(perplexity)+'/TransMatS20_Perp'+str(perplexity)+'.png')\n",
    "#plt.show()"
   ]
  },
  {
   "cell_type": "code",
   "execution_count": 55,
   "metadata": {
    "collapsed": false
   },
   "outputs": [
    {
     "data": {
      "text/plain": [
       "\"f=h5py.File(r'TsneResults/Perp'+str(perplexity)+'.h5','r')\\nhierarchsort=(np.array(f['hierarchsort'])-1).astype(int)\\nhierarchsort=np.transpose(hierarchsort)[0] #DELETE maybe later when changing matlab saving procedure\\nf.close()\\ntransitionmatrixordtemp=transitionmatrix\\nfor i in range(len(hierarchsort)):\\n    transitionmatrixordtemp[i,:]=transitionmatrix[hierarchsort[i],:]\\ntransitionmatrixord=transitionmatrix\\nfor i in range(len(hierarchsort)):\\n    transitionmatrixord[:,i]=transitionmatrixordtemp[:,hierarchsort[i]]\\nplt.figure(figsize=(10,8))\\nplt.title('Transition Matrix',fontsize=20)\\nplt.imshow(np.log10(transitionmatrixord), origin='lower',cmap=cm.jet)\\n#plt.imshow(transitionmatrixord, origin='lower',cmap=cm.jet)\\nplt.colorbar()\\nplt.grid(False)\\nplt.xlabel('$to$',fontsize=20)\\nplt.ylabel('$from$',fontsize=20)\\n#plt.savefig(r'TsneResults/transmatsortPerp'+str(perplexity)+'.eps')\\nplt.show()\""
      ]
     },
     "execution_count": 55,
     "metadata": {},
     "output_type": "execute_result"
    }
   ],
   "source": [
    "#Read hierarchical cluster from MATLAB (not really needed anymore as the result above already looks nice)\n",
    "f=h5py.File(r'TsneResults/Perp'+str(perplexity)+'.h5','r')\n",
    "hierarchsort=(np.array(f['hierarchsort'])-1).astype(int)\n",
    "hierarchsort=np.transpose(hierarchsort)[0] #DELETE maybe later when changing matlab saving procedure\n",
    "f.close()\n",
    "transitionmatrixordtemp=np.copy(transitionmatrix)\n",
    "for i in range(len(hierarchsort)):\n",
    "    transitionmatrixordtemp[i,:]=transitionmatrix[hierarchsort[i],:]\n",
    "transitionmatrixord=np.copy(transitionmatrix)\n",
    "for i in range(len(hierarchsort)):\n",
    "    transitionmatrixord[:,i]=transitionmatrixordtemp[:,hierarchsort[i]]\n",
    "plt.figure(figsize=(10,8))\n",
    "plt.title('Transition Matrix',fontsize=20)\n",
    "plt.imshow(np.log10(transitionmatrixord), origin='lower',cmap=cm.jet)\n",
    "#plt.imshow(transitionmatrixord, origin='lower',cmap=cm.jet)\n",
    "plt.colorbar()\n",
    "plt.grid(False)\n",
    "plt.xlabel('$to$',fontsize=20)\n",
    "plt.ylabel('$from$',fontsize=20)\n",
    "#plt.savefig(r'TsneResults/transmatsortPerp'+str(perplexity)+'.eps')\n",
    "plt.show()"
   ]
  },
  {
   "cell_type": "markdown",
   "metadata": {},
   "source": [
    "Does not work:\n",
    "from polo import optimal_leaf_ordering\n",
    "optimal_Z = optimal_leaf_ordering(linkagematrix, transitionmatrixdistance)\n",
    "optimal_Z.shape"
   ]
  },
  {
   "cell_type": "code",
   "execution_count": 214,
   "metadata": {
    "collapsed": false
   },
   "outputs": [
    {
     "data": {
      "text/plain": [
       "<matplotlib.collections.PathCollection at 0x11fb4a470>"
      ]
     },
     "execution_count": 214,
     "metadata": {},
     "output_type": "execute_result"
    }
   ],
   "source": [
    "#K-means clustering of the tsne space\n",
    "clusternumber=150;\n",
    "clusteredspaces = KMeans(n_clusters=clusternumber).fit_predict(spaces)\n",
    "cmap = cm.get_cmap('jet')\n",
    "colors=cmap(np.linspace(0.01,1,clusternumber))\n",
    "plt.figure(figsize=(10,8))\n",
    "plt.scatter(spaces[:, 0], spaces[:, 1], c=colors[clusteredspaces])\n",
    "#plt.show()"
   ]
  },
  {
   "cell_type": "code",
   "execution_count": 215,
   "metadata": {
    "collapsed": false
   },
   "outputs": [
    {
     "data": {
      "text/plain": [
       "<matplotlib.collections.PathCollection at 0x11f203b70>"
      ]
     },
     "execution_count": 215,
     "metadata": {},
     "output_type": "execute_result"
    }
   ],
   "source": [
    "#K-means clustering of the original thetas then plotted in tsne space\n",
    "results=h5py.File(path2mainfolder+'TsneResults/Perp'+str(perplexity)+'.h5','r')\n",
    "allthetas=np.array(results['allthetas'])\n",
    "results.close()\n",
    "clusternumber=150;\n",
    "clusteredthetas = KMeans(n_clusters=clusternumber).fit_predict(allthetas)\n",
    "cmap = cm.get_cmap('jet')\n",
    "colors=cmap(np.linspace(0.01,1,clusternumber))\n",
    "plt.figure(figsize=(10,8))\n",
    "plt.scatter(spaces[:, 0], spaces[:, 1], c=colors[clusteredthetas])\n",
    "#plt.show()"
   ]
  },
  {
   "cell_type": "code",
   "execution_count": 228,
   "metadata": {
    "collapsed": false
   },
   "outputs": [],
   "source": [
    "clustermean=np.ones((clusternumber,allthetas.shape[1]))\n",
    "icount=0\n",
    "for i in range(clusternumber):\n",
    "    myselection=(clusteredthetas==i)\n",
    "    if np.sum(myselection)>10:\n",
    "        clustermean[icount]=np.sum(allthetas[myselection,:],axis=0)\n",
    "        clusteredthetas[myselection]=icount\n",
    "        icount=icount+1\n",
    "    else:\n",
    "        clusteredthetas[myselection]=clusternumber\n",
    "clustermean=clustermean[:icount,:]\n",
    "for i in range(len(clusteredthetas)):\n",
    "    if clusteredthetas[i]==clusternumber:\n",
    "        tempdist=np.ones(icount)\n",
    "        for j in range(icount):\n",
    "            tempdist[j]=np.sum((allthetas[i,:]-clustermean[j,:])**2)\n",
    "        clusteredthetas[i]=np.argmin(tempdist)\n",
    "clusternumber=icount"
   ]
  },
  {
   "cell_type": "code",
   "execution_count": 231,
   "metadata": {
    "collapsed": false
   },
   "outputs": [
    {
     "data": {
      "text/plain": [
       "<matplotlib.collections.PathCollection at 0x11f44be10>"
      ]
     },
     "execution_count": 231,
     "metadata": {},
     "output_type": "execute_result"
    }
   ],
   "source": [
    "cmap = cm.get_cmap('jet')\n",
    "colors=cmap(np.linspace(0.01,1,clusternumber))\n",
    "plt.figure(figsize=(10,8))\n",
    "plt.scatter(spaces[:, 0], spaces[:, 1], c=colors[clusteredthetas])\n",
    "#plt.savefig(path2mainfolder+'TsneResults/Perp'+str(perplexity)+'/ClustThetas_Perp'+str(perplexity)+'.png')\n",
    "#plt.show()"
   ]
  },
  {
   "cell_type": "code",
   "execution_count": 217,
   "metadata": {
    "collapsed": false
   },
   "outputs": [],
   "source": [
    "#Compute transition matrix\n",
    "followupindex=np.c_[clusteredthetas[:-1],clusteredthetas[1:]]\n",
    "deletionvector=np.cumsum(entrynumber)-1\n",
    "followupindexdel=np.delete(followupindex,deletionvector,0).astype(int) #cast to int\n",
    "transitionmatrixthetas=np.zeros((clusternumber,clusternumber))\n",
    "for i in range(len(followupindexdel)):\n",
    "    transitionmatrixthetas[followupindexdel[i,0]-1,followupindexdel[i,1]-1] += 1.0"
   ]
  },
  {
   "cell_type": "code",
   "execution_count": 218,
   "metadata": {
    "collapsed": true
   },
   "outputs": [],
   "source": [
    "#Save transition matrix\n",
    "f=h5py.File(path2mainfolder+'TsneResults/Perp'+str(perplexity)+'.h5','a')\n",
    "save_save(f,'transmatthetas',transitionmatrixthetas)\n",
    "f.close()"
   ]
  },
  {
   "cell_type": "code",
   "execution_count": 260,
   "metadata": {
    "collapsed": false
   },
   "outputs": [
    {
     "data": {
      "image/png": "[encoded data removed]",
      "text/plain": [
       "<matplotlib.figure.Figure at 0x11ee2fac8>"
      ]
     },
     "metadata": {},
     "output_type": "display_data"
    }
   ],
   "source": [
    "#Distribution of transitions from each clusters\n",
    "maxtransitions=np.amax(transitionmatrixthetas, axis=1)\n",
    "plt.figure(figsize=(10,8))\n",
    "plt.hist(maxtransitions, bins=150)\n",
    "plt.show()"
   ]
  },
  {
   "cell_type": "code",
   "execution_count": 258,
   "metadata": {
    "collapsed": false
   },
   "outputs": [
    {
     "data": {
      "text/plain": [
       "<matplotlib.text.Text at 0x11a49ae80>"
      ]
     },
     "execution_count": 258,
     "metadata": {},
     "output_type": "execute_result"
    }
   ],
   "source": [
    "#Transition matrix either in log or normal scale or only in a certain range (don't forget to change colorbar label)\n",
    "transitionmatrixdistance = pdist(transitionmatrixthetas, 'euclidean')\n",
    "linkagematrix = linkage(transitionmatrixdistance, 'ward')\n",
    "clusterorder=leaves_list(linkagematrix)\n",
    "transitionmatrixordtemp=np.copy(transitionmatrixthetas)\n",
    "for i in range(len(clusterorder)):\n",
    "    transitionmatrixordtemp[i,:]=transitionmatrixthetas[clusterorder[i],:]\n",
    "transitionmatrixord=np.copy(transitionmatrixthetas)\n",
    "for i in range(len(clusterorder)):\n",
    "    transitionmatrixord[:,i]=transitionmatrixordtemp[:,clusterorder[i]]\n",
    "plt.figure(figsize=(10,8))\n",
    "plt.title('Transition Matrix',fontsize=20)\n",
    "#plt.imshow(np.log10(transitionmatrixord), origin='lower',cmap=cm.jet)\n",
    "transitionmatrixord[(transitionmatrixord>20)]=20\n",
    "plt.imshow(transitionmatrixord, origin='lower',cmap=cm.jet)\n",
    "cbar = plt.colorbar()\n",
    "#cbar.ax.set_yticklabels(['0','5','10','15','20','25','>30'])\n",
    "cbar.set_ticks(np.linspace(0, 20, 5))\n",
    "cbar.ax.set_yticklabels(['0','5','10','15','>20'])\n",
    "plt.grid(False)\n",
    "plt.xlabel('$to$',fontsize=20)\n",
    "plt.ylabel('$from$',fontsize=20)\n",
    "#plt.savefig(path2mainfolder+'TsneResults/Perp'+str(perplexity)+'/TransMatThetasS20_Perp'+str(perplexity)+'.png')\n",
    "#plt.show()"
   ]
  },
  {
   "cell_type": "code",
   "execution_count": 159,
   "metadata": {
    "collapsed": false
   },
   "outputs": [
    {
     "data": {
      "text/plain": [
       "<matplotlib.text.Text at 0x11f976e48>"
      ]
     },
     "execution_count": 159,
     "metadata": {},
     "output_type": "execute_result"
    }
   ],
   "source": [
    "#DBscan clustering (doesn't seem to work so well)\n",
    "db = DBSCAN(eps=0.7, min_samples=5).fit(spaces)\n",
    "core_samples_mask = np.zeros_like(db.labels_, dtype=bool)\n",
    "core_samples_mask[db.core_sample_indices_] = True\n",
    "labels = db.labels_\n",
    "\n",
    "# Number of clusters in labels, ignoring noise if present.\n",
    "n_clusters_ = len(set(labels)) - (1 if -1 in labels else 0)\n",
    "\n",
    "#print('Estimated number of clusters: %d' % n_clusters_)\n",
    "\n",
    "# Black removed and is used for noise instead.\n",
    "plt.figure(figsize=(10,8))\n",
    "unique_labels = set(labels)\n",
    "colors = plt.cm.Spectral(np.linspace(0, 1, len(unique_labels)))\n",
    "for k, col in zip(unique_labels, colors):\n",
    "    if k == -1:\n",
    "        # Black used for noise.\n",
    "        col = 'k'\n",
    "\n",
    "    class_member_mask = (labels == k)\n",
    "\n",
    "    xy = spaces[class_member_mask & core_samples_mask]\n",
    "    plt.scatter(xy[:, 0], xy[:, 1], c=col)\n",
    "    #plt.plot(xy[:, 0], xy[:, 1], 'o', markerfacecolor=col,\n",
    "         #    markeredgecolor='k', markersize=14)\n",
    "\n",
    "    xy = spaces[class_member_mask & ~core_samples_mask]\n",
    "    plt.scatter(xy[:, 0], xy[:, 1], c=col)\n",
    "    #plt.plot(xy[:, 0], xy[:, 1], 'o', markerfacecolor=col,\n",
    "      #       markeredgecolor='k', markersize=6)\n",
    "\n",
    "plt.title('Estimated number of clusters: %d' % n_clusters_)\n",
    "#plt.show()"
   ]
  },
  {
   "cell_type": "code",
   "execution_count": null,
   "metadata": {
    "collapsed": true
   },
   "outputs": [],
   "source": []
  }
 ],
 "metadata": {
  "kernelspec": {
   "display_name": "Python 3",
   "language": "python",
   "name": "python3"
  },
  "language_info": {
   "codemirror_mode": {
    "name": "ipython",
    "version": 3
   },
   "file_extension": ".py",
   "mimetype": "text/x-python",
   "name": "python",
   "nbconvert_exporter": "python",
   "pygments_lexer": "ipython3",
   "version": "3.6.0"
  }
 },
 "nbformat": 4,
 "nbformat_minor": 2
}
